{
  "nbformat": 4,
  "nbformat_minor": 0,
  "metadata": {
    "colab": {
      "name": "Open CYOAI Colab v1.0.ipynb",
      "provenance": [],
      "collapsed_sections": [
        "9OyOAgpo0XfU",
        "xn0bEX3R8IMC",
        "gmioGz252Ghx",
        "KstmddkB1vhT",
        "88pDH9FP0TCz",
        "nqgPglYzMeek",
        "36Gkd-RytcM_",
        "sSR483VQts7V",
        "afImEGdNuC9A",
        "sad33SaPNMQU",
        "A_sVH81JyJin",
        "9mO5XY3HOBKN",
        "zITeSYmJvBp4",
        "UuZSuj6OiTEI",
        "nJMePPmJvBp7",
        "ooL1ozRUgO5r"
      ],
      "toc_visible": true,
      "machine_shape": "hm",
      "include_colab_link": true
    },
    "kernelspec": {
      "name": "python3",
      "display_name": "Python 3"
    },
    "accelerator": "GPU"
  },
  "cells": [
    {
      "cell_type": "markdown",
      "metadata": {
        "id": "view-in-github",
        "colab_type": "text"
      },
      "source": [
        "<a href=\"https://colab.research.google.com/github/OpenCYOAI/OpenCYOAI/blob/master/Old_Open_CYOAI_Colab.ipynb\" target=\"_parent\"><img src=\"https://colab.research.google.com/assets/colab-badge.svg\" alt=\"Open In Colab\"/></a>"
      ]
    },
    {
      "cell_type": "markdown",
      "metadata": {
        "id": "7dRi_BDWErNf",
        "colab_type": "text"
      },
      "source": [
        "# ![Special Edition](https://i.ibb.co/h1v7yNz/1577001234473.png)\n",
        "Based on [Nick Walton](https://twitter.com/nickwalton00)'s work."
      ]
    },
    {
      "cell_type": "markdown",
      "metadata": {
        "id": "0FBTZwEOzKQ1",
        "colab_type": "text"
      },
      "source": [
        "---\n",
        "### About the game\n",
        "---"
      ]
    },
    {
      "cell_type": "markdown",
      "metadata": {
        "id": "JICnNPtb6S-I",
        "colab_type": "text"
      },
      "source": [
        "AI Dungeon 2 is a completely AI generated text adventure built with OpenAI's largest GPT-2 model. It's a first of it's kind game that allows you to enter and will react to any action you can imagine.\n",
        "\n",
        "This is a mod of the base game made entirely by the collective efforts of Anons, so you know what to expect from this.\n",
        "\n",
        "This colab is a frontend aiming to allow users to easily run different versions of AIDungeon 2. It is under [AGPL](https://github.com/Kornilov1/AI-Dungeon-2-Anons-modded-Versions-Colab/blob/master/LICENSE)\n",
        "\n",
        "\n",
        "\n",
        "\n",
        "\n",
        "All modded versions uses the AIDungeon 2's default model_v5 unless explicit mention.\n",
        "Currently supported repositories, with their licenses :\n",
        "* [Thadunge2](https://github.com/thadunge2/AIDungeon/) - [AGPL](https://github.com/thadunge2/AIDungeon/blob/master/LICENSE)\n",
        "* [Clover-Edition](https://github.com/cloveranon/Clover-Edition) - [MIT](https://github.com/cloveranon/Clover-Edition/blob/master/LICENSE) - model_v5 converted to PyTorch\n",
        "\n",
        "If you would like to install the game locally to run directly in your PC instead of through here, go [here](https://pastebin.com/KH12Yq81) and follow the instructions.\n",
        "\n",
        "To see most changes, addons, instructions, explanations and different versions made by the collective effort of Anons through the threads, just go [here](https://pastebin.com/t0BTyd5H) and read through the pastebins.\n"
      ]
    },
    {
      "cell_type": "markdown",
      "metadata": {
        "id": "9OyOAgpo0XfU",
        "colab_type": "text"
      },
      "source": [
        "---\n",
        "### Disclaimer about [Nick Walton](https://twitter.com/nickwalton00) (original author)\n",
        "---"
      ]
    },
    {
      "cell_type": "markdown",
      "metadata": {
        "id": "2wS1l_EbKEar",
        "colab_type": "text"
      },
      "source": [
        "||||||\n",
        "|:-:|:-:|:-:|:-:|:-:|\n",
        "|**He's not as intelligent as he lets on; he...**|++|**He begs for money on Patreon...**|++|**He is vying for full community control,<br>as evidenced by his attempt to<br>shut down this Colab...**|\n",
        "|...relies on a (free) third-party library for the AI;<br>his own code could be written by any programming student|++|...and makes promises to his backers while lacking<br>essential knowledge on what he's even doing:|++|...by citing breach of copyright over a logo, despite not<br>being a member of the associated Copyright Licensing Office|\n",
        "|[Exhibit A](https://github.com/openai/gpt-2): OpenAI's GPT-2 framework|++|He knows nothing on how to transfer<br>data and relied on us...<br>[Exhibit A](https://web.archive.org/web/20191223063209/https:/twitter.com/nickwalton00/status/1203843111287316485): Tweet from shortly after<br>the project's surge of popularity|++|_BETA TEXT: exhibit(s) needed_|\n",
        "|...used university resources to get the project off the ground|++|...while misrepresenting the ongoing costs:<br>The AI model is distributed by torrent,<br>**which incurs no hosting costs**<br>[Exhibit A](https://github.com/AIDungeon/AIDungeon/blob/master/download_model.sh) & [Exhibit B](https://github.com/nickwalton/AIDungeon/blob/master/download_model.sh): The download script on Walton's repos|++|...and did not even try to hide he was motivated by<br>wanting to remove content he deemed offensive|\n",
        "|_BETA TEXT: exhibit(s) needed_|++|He **does** pay for Amazon Web Services for the phone apps<br>(that he may not have even developed himself), but he could<br>very easily just use Colab **in the same way it was originally done**<br>_BETA TEXT: exhibit(s) needed_|++|[Exhibit A](https://github.com/Kornilov1/AI-Dungeon-2-Anons-modded-Versions-Colab/issues/140): C&D via Repo Issue|\n",
        "|...screwed up the formating of the AI's training data<br>(causes most of the erroneous AI responses)|++|...and barely even works on the game:<br>He works almost exclusively on his .ipynb and profits<br>off those who develop and fix his game for him<br>[Exhibit A](https://github.com/AIDungeon/AIDungeon/commits/master): History of AIDungeon 2's GitHub|++|...which makes him a hypocrite, due to his<br>own distribution of offensive content|\n",
        "|_BETA TEXT: exhibit(s) needed_|++|-|++|[Exhibit A](https://i.ibb.co/FHbwvYw/1576830623440.png), [Exhibit B](https://i.ibb.co/MCf0kgp/1576831691518.png), [Exhibit C](https://i.ibb.co/rpGyzvQ/1576831799954.png):<br>Datasets he used for the AI model|\n",
        "|...chose AI training datasets that are not useful to storytelling|++|-|++|-|\n",
        "|_BETA TEXT: exhibit(s) needed_|++|-|++|-|\n"
      ]
    },
    {
      "cell_type": "markdown",
      "metadata": {
        "id": "0hFoc_QD0U9j",
        "colab_type": "text"
      },
      "source": [
        "_This may be a coincidence, but is worth mentioning for posterity: While we were discussing on putting a license to prevent him from using Anons' code (to have at least him say **where he got the code** from), we received the aforementioned Cease and Desist \"**order**\". [Archived thread](https://web.archive.org/web/20191221190204/https://arch.b4k.co/v/thread/489594729/). This is why the AGPL license was decided on._\n",
        "\n",
        "* In summation:\n",
        "    * He has handled the project poorly and on how he has proven that he has **no idea on what he is doing** and **relies entirely on others to fix things**, all while **profiting** from it.\n",
        "    * He **does** deserve credit for being the first to present a playable form of this use of the technology.\n",
        "    * He **doesn't** deserve your money. If you already donated, try to pull out."
      ]
    },
    {
      "cell_type": "markdown",
      "metadata": {
        "id": "2vSVaJaeWI2a",
        "colab_type": "text"
      },
      "source": [
        "*Special note to redditards dramaqueens : There is actually no drama on our side, you're the only ones seeing (and making) a drama. Anons always pointed out the shit people do, independently of the people themselves. We do not like or hate him, we only point things to make people think twice about him. In the end, what you think about him is entirely up to you, as well as what you think about the above. And we absolutely don't fucking care to hear it. Thanks for reading and have a nice day. Oh, and if you can't stand our Colab, just go to [the official one](https://colab.research.google.com/github/AIDungeon/AIDungeon/blob/master/AIDungeon_2.ipynb)...*"
      ]
    },
    {
      "cell_type": "markdown",
      "metadata": {
        "id": "xn0bEX3R8IMC",
        "colab_type": "text"
      },
      "source": [
        "---\n",
        "### How to play / Initial setup\n",
        "---"
      ]
    },
    {
      "cell_type": "markdown",
      "metadata": {
        "id": "Fr5j3r9N3v39",
        "colab_type": "text"
      },
      "source": [
        "*When you are asked to run a cell, click this*\n",
        "\n",
        "![THIS !](https://i.ibb.co/Bjh7R8g/run-cell.jpg)\n",
        "\n",
        "*Make sure each command is finished, some of them take a while to process.*\n",
        "\n",
        "*For a comfier experience, click \"Tools\"-> \"Settings...\" -> \"Theme\" -> \"Dark\"*\n",
        "\n",
        "*Run the [SECTION 3 - CELL 1](#scrollTo=zITeSYmJvBp4) for more RAM (optional, but you probably do want it), the allocated GPU will crash (takes about 10 seconds) and Google Colab will offer you an option to get more RAM (max is 25GB), if you have already max RAM you can skip this.*\n",
        "\n",
        "*If you have already downloaded the \"model_v5\" folder through torrent, I advise against deleting it, it might come handy in the future. If anyone is curious [here is the torrent](https://github.com/nickwalton/AIDungeon/files/3935881/model_v5.torrent.zip)*."
      ]
    },
    {
      "cell_type": "markdown",
      "metadata": {
        "id": "1kFSce_Y2Gys",
        "colab_type": "text"
      },
      "source": [
        "1. First **make sure you have a Google Drive account with at least 6GB of free space in it and that you are signed up**.\n",
        "2. On the top left: Click \"File\"-> \"Save a a copy in Drive\". A new tab will open, **close the current tab and use the new one**.\n",
        "3. Delete your AIdungeon folder in your Google Drive if it's already in it.\n",
        "4. Run the [SECTION 1 - CELL 1](#scrollTo=36Gkd-RytcM_), it will install needed dependencies and mount your Google Drive. **It will ask for authorization so follow the link given and log in, then paste the code back in the box that showed up under the code and press enter**.\n",
        "5. Run the [SECTION 1 - CELL 2](#scrollTo=sSR483VQts7V), it will download the game files to /content/AIDungeon/. You can also freely choose your favorite repo there.\n",
        "6. Run the [SECTION 1 - CELL 3](#scrollTo=afImEGdNuC9A), it will copy the game files to your Google Drive so they won't have to be downloaded every time.\n",
        "7. Now AIDungeon is correctly installed in your Google Drive, you just need to run the [SECTION 2 - CELL 1](#scrollTo=A_sVH81JyJin) to play, but **DO NOT REPEAT THE PREVIOUS STEPS**\n",
        "8. (Optional) Go to [SECTION 3 - CELL 4](#scrollTo=ooL1ozRUgO5r) to see some Drawfag OC."
      ]
    },
    {
      "cell_type": "markdown",
      "metadata": {
        "id": "gmioGz252Ghx",
        "colab_type": "text"
      },
      "source": [
        "---\n",
        "### How to play again / Future sessions\n",
        "---"
      ]
    },
    {
      "cell_type": "markdown",
      "metadata": {
        "id": "kp6f3co42GFg",
        "colab_type": "text"
      },
      "source": [
        "When running the game **again** (i.e.: after you closed the tab) just:\n",
        " - Run the [SECTION 3 - CELL 1](#scrollTo=zITeSYmJvBp4) for more RAM (optional, but you probably do want it), if you have already max RAM (25GB) you can skip this.\n",
        " - Run the [SECTION 1 - CELL 1](#scrollTo=36Gkd-RytcM_). You will need to authorize it again.\n",
        "* If this cell gives you an error, try clicking \"Runtime\"-> \"Restart runtime\" on the top of the screen.\n",
        " - Run the [SECTION 2 - CELL 1](#scrollTo=A_sVH81JyJin) and play the game."
      ]
    },
    {
      "cell_type": "markdown",
      "metadata": {
        "id": "KstmddkB1vhT",
        "colab_type": "text"
      },
      "source": [
        "---\n",
        "### How to update\n",
        "---"
      ]
    },
    {
      "cell_type": "markdown",
      "metadata": {
        "id": "iuxuUz451oPN",
        "colab_type": "text"
      },
      "source": [
        "1. Run [SECTION 3 - CELL 2](#scrollTo=UuZSuj6OiTEI), it will get only the latest changes made on the GitHub repo of your choice, and put them in your Gdrive folder.\n",
        "2. If you're paranoid and want to make sure everything is up-to-date, you will have to repeat everything over again starting from **How to play - step 3** , from time to time."
      ]
    },
    {
      "cell_type": "markdown",
      "metadata": {
        "id": "88pDH9FP0TCz",
        "colab_type": "text"
      },
      "source": [
        "---\n",
        "### Latest News\n",
        "---"
      ]
    },
    {
      "cell_type": "markdown",
      "metadata": {
        "id": "XRgAfA-WR5OV",
        "colab_type": "text"
      },
      "source": [
        "||||||\n",
        "|:-:|:-:|:-:|:-:|:-:|\n",
        "|**thadunge2's AIDungeon**|++|**Clover Edition**|++|**Colab**|\n",
        "|[Changelog](https://github.com/thadunge2/AIDungeon/blob/master/CHANGELOG.md)|++|Model converted<br>to PyTorch|++|New installation<br>method|\n",
        "|-|++|Added<br>custom prompts|++|Tables! Tables<br>everywhere!|\n",
        "|-|++|Added<br>word wrapping|++|Fixed<br>disconnection<br>glitch|\n",
        "|-|++|-|++|New cell<br>Erase GDrive|"
      ]
    },
    {
      "cell_type": "markdown",
      "metadata": {
        "id": "pEm0jTmB0jty",
        "colab_type": "text"
      },
      "source": [
        "* **Workarounds**\n",
        "    * Ghost files in Google Drive\n",
        "        * It appears Google's UI sucks and lags as fuck, but **as soon as you hit \"Empty trash bin\", you're good**, even if it continues to show files and a full storage space bar (give it some time and it shows the changes). **It's just their shitty UI**. **Not real files**.\n",
        "            * Runtime -> reset environment -> GDrive -> Delete whatever you want to delete -> Empty trash bin\n",
        "            * There is another way, this one is automatic but **it will delete absolutely EVERYTHING inside your Google Drive** and it will take around 30-60 minutes to be **displayed in GDrive UI** but, aside from that, you won't have to do anything else. If you are interested and understand the risks, go to [SECTION 3 - CELL 3](#scrollTo=nJMePPmJvBp7)."
      ]
    },
    {
      "cell_type": "markdown",
      "metadata": {
        "id": "nqgPglYzMeek",
        "colab_type": "text"
      },
      "source": [
        "\n",
        "---\n",
        "---\n",
        "## SECTION 1 : SETUP\n",
        "---\n",
        "---"
      ]
    },
    {
      "cell_type": "markdown",
      "metadata": {
        "id": "36Gkd-RytcM_",
        "colab_type": "text"
      },
      "source": [
        "### CELL 1 : Installing dependencies and mounting GDrive"
      ]
    },
    {
      "cell_type": "code",
      "metadata": {
        "id": "WcHlF6MkP0-Y",
        "colab_type": "code",
        "colab": {}
      },
      "source": [
        "#@title <- Run this cell. { form-width: \"10%\", display-mode: \"form\" }\n",
        "#@markdown\n",
        "#@markdown  *You must run this cell each time you come back to play before running the game in [SECTION 2 - CELL 1](#scrollTo=A_sVH81JyJin).*\n",
        "!pip install regex\n",
        "!pip install profanityfilter\n",
        "!pip install playsound\n",
        "!pip install func_timeout\n",
        "!pip install tracery\n",
        "!pip install cryptography\n",
        "!pip install pyjarowinkler\n",
        "!pip install transformers\n",
        "!pip install torch\n",
        "from google.colab import drive\n",
        "drive.mount('/content/gdrive', force_remount=True)\n",
        "root_dir = \"/content/gdrive/My Drive/\""
      ],
      "execution_count": 0,
      "outputs": []
    },
    {
      "cell_type": "markdown",
      "metadata": {
        "id": "sSR483VQts7V",
        "colab_type": "text"
      },
      "source": [
        "---\n",
        "---\n",
        "### CELL 2 : Cloning GIT repo to VM"
      ]
    },
    {
      "cell_type": "code",
      "metadata": {
        "id": "PULJhld0QWZp",
        "colab_type": "code",
        "colab": {}
      },
      "source": [
        "# All comments starting with @something are actually \n",
        "# the visible text when the code is hidden.\n",
        "#@title <- Click this once you're all set { form-width: \"10%\", display-mode: \"form\" }\n",
        "# These variables are dynamically changed depending of the form\n",
        "#@markdown Choose which modded AIDungeon 2 you want to run\n",
        "repo = \"thadunge2/AIDungeon\" #@param [\"thadunge2/AIDungeon\", \"cloveranon/Clover-Edition\"]\n",
        "#@markdown Double-click here to show/hide the code if you're a curiousfag\n",
        "# This line will clone the repo in the VM\n",
        "!git clone https://github.com/$repo\n",
        "# This is a repo selector used to run the install code for each repo.\n",
        "# It's a simple bool (true/false) for now, but can easily be upgraded to a real\n",
        "# selector if more than 2 repo are actually available.\n",
        "repository = [repo]\n",
        "# This is the default value to compare the repo for the bool\n",
        "default = 'thadunge2/AIDungeon'\n",
        "# main code goes here. it's a simple if else because only 2 repo exists at\n",
        "#this time. \"if\" is run if bool is true, \"else\" is run if bool is false\n",
        "for choice in repository:\n",
        "  if (bool(choice == default)):\n",
        "    %cd AIDungeon\n",
        "    !chmod 777 install.sh \n",
        "    !sed -i -e 's/\\r$//' install.sh\n",
        "    !./install.sh\n",
        "    !chmod 777 download_model.sh \n",
        "    !sed -i -e 's/\\r$//' download_model.sh\n",
        "    !./download_model.sh\n",
        "  else:\n",
        "    %cd Clover-Edition\n",
        "    !chmod 777 install.sh\n",
        "    !sed -i -e 's/\\r$//' install.sh\n",
        "    !./install.sh\n",
        "    !chmod 777 download_model.sh \n",
        "    !sed -i -e 's/\\r$//' download_model.sh\n",
        "    !./download_model.sh\n",
        "# Clearing the installation garbage of the output\n",
        "from IPython.display import clear_output \n",
        "clear_output()\n",
        "print(\"Download Complete!\")"
      ],
      "execution_count": 0,
      "outputs": []
    },
    {
      "cell_type": "markdown",
      "metadata": {
        "id": "afImEGdNuC9A",
        "colab_type": "text"
      },
      "source": [
        "---\n",
        "---\n",
        "### CELL 3 : Copying game files from VM to GDrive"
      ]
    },
    {
      "cell_type": "code",
      "metadata": {
        "id": "dKSFipS_CuoC",
        "colab_type": "code",
        "colab": {}
      },
      "source": [
        "#@title <- Click this once you're all set. It will take a bit of time, be patient. { form-width: \"10%\", display-mode: \"form\" }\n",
        "#@markdown Choose the repo you want to move. { form-width: \"37.5%\", display-mode: \"form\" }\n",
        "repo = \"AIDungeon\" #@param [\"AIDungeon\", \"Clover-Edition\"]\n",
        "%cd \"/content/gdrive/My Drive/\"\n",
        "!mkdir $repo\n",
        "!mv \"/content/${repo}/\"{,.[^.]}* \"/content/gdrive/My Drive/${repo}\"\n",
        "#@markdown\n",
        "#@markdown *If you get this type of error on AIDungeon, do not worry, it's just a few python setup files that can't be copied for currently unkown reasons, but you can still play :*\n",
        "#@markdown *   */content/gdrive/My Drive*\n",
        "#@markdown *   *mv: cannot create symbolic link '/content/gdrive/My Drive/AIDungeon/venv/lib64': Operation not supported*\n",
        "#@markdown *   *mv: cannot create symbolic link '/content/gdrive/My Drive/AIDungeon/venv/bin/python3': Operation not supported*\n",
        "#@markdown *   *mv: cannot create symbolic link '/content/gdrive/My Drive/AIDungeon/venv/bin/python': Operation not supported*\n",
        "#@markdown\n",
        "#@markdown *For Clover-Edition, this might happen. It's probably harmless but it will be checked later.*\n",
        "#@markdown * *mv: cannot move '/content//gdrive/.shortcut-targets-by-id' to '/content/gdrive/My Drive/gdrive/.shortcut-targets-by-id': Operation not supported*\n",
        "#@markdown * *mv: cannot move '/content//gdrive' to a subdirectory of itself, '/content/gdrive/My Drive/gdrive'*"
      ],
      "execution_count": 0,
      "outputs": []
    },
    {
      "cell_type": "markdown",
      "metadata": {
        "id": "sad33SaPNMQU",
        "colab_type": "text"
      },
      "source": [
        "\n",
        "---\n",
        "---\n",
        "## SECTION 2 : PLAY THE GAME\n",
        "---\n",
        "---"
      ]
    },
    {
      "cell_type": "markdown",
      "metadata": {
        "id": "A_sVH81JyJin",
        "colab_type": "text"
      },
      "source": [
        "### CELL 1 : Play"
      ]
    },
    {
      "cell_type": "code",
      "metadata": {
        "id": "vunT3Rp-lO6N",
        "colab_type": "code",
        "colab": {}
      },
      "source": [
        "#@title <- Click this once you're all set { form-width: \"10%\", display-mode: \"form\" }\n",
        "#@markdown Choose your version { form-width: \"37.5%\", display-mode: \"form\" }\n",
        "version = \"AIDungeon\" #@param [\"AIDungeon\", \"Clover-Edition\"]\n",
        "%cd \"/content/gdrive/My Drive/\"$version\n",
        "from IPython.display import Javascript\n",
        "display(Javascript('''google.colab.output.setIframeHeight(0, true, {maxHeight: 5000})'''))\n",
        "!python play.py"
      ],
      "execution_count": 0,
      "outputs": []
    },
    {
      "cell_type": "markdown",
      "metadata": {
        "id": "9mO5XY3HOBKN",
        "colab_type": "text"
      },
      "source": [
        "\n",
        "---\n",
        "---\n",
        "## SECTION 3 : OPTIONAL\n",
        "---\n",
        "---"
      ]
    },
    {
      "cell_type": "markdown",
      "metadata": {
        "id": "zITeSYmJvBp4",
        "colab_type": "text"
      },
      "source": [
        "### CELL 1 : Maximize RAM"
      ]
    },
    {
      "cell_type": "code",
      "metadata": {
        "id": "Zb8MBT52sIHn",
        "colab_type": "code",
        "colab": {}
      },
      "source": [
        "#@title <- Run this cell if you suffer an out of memory (OOM) error. { form-width: \"10%\", display-mode: \"form\" }\n",
        "#@markdown *Wait until it crashes and a little message pops up (takes about 10 seconds) asking if you'd like to increase the available memory.*\n",
        "#@markdown\n",
        "#@markdown  *Say yes and run the game in [SECTION 2 : PLAY THE GAME](#scrollTo=A_sVH81JyJin).*\n",
        "thislist = [\"1\"]\n",
        "while 1:\n",
        "    thislist *= 10"
      ],
      "execution_count": 0,
      "outputs": []
    },
    {
      "cell_type": "markdown",
      "metadata": {
        "id": "UuZSuj6OiTEI",
        "colab_type": "text"
      },
      "source": [
        "---\n",
        "---\n",
        "### CELL 2 : Updating GIT repo in GDrive"
      ]
    },
    {
      "cell_type": "markdown",
      "metadata": {
        "colab_type": "text",
        "id": "2uHh66g_ioSq"
      },
      "source": [
        "Run this cell from time to time to update the repo you use. \n",
        "\n",
        "*It will ask your authorization code to force remount your GDrive in the VM in order to do the update.*\n",
        "\n",
        "*WARNING : before updating your game, go to your GDrive and copy the \"AIDungeon\" or \"Clover-Edition\" folder to \"AIDungeon-Old\" and \"Clover-Edition-old\". Make sure the current update is STABLE, before actually overwriting your files. In case the update is buggy, you just need to delete the updated \"AIDungeon\" folder, and rename back the \"AIDungeon-Old\" folder to \"AIDungeon\" to revert back to the stable version.*"
      ]
    },
    {
      "cell_type": "code",
      "metadata": {
        "id": "czyMoUu9ixOA",
        "colab_type": "code",
        "colab": {}
      },
      "source": [
        "#@title Choose the repo to update { form-width: \"10%\", display-mode: \"form\" }\n",
        "repo = \"AIDungeon\" #@param [\"AIDungeon\", \"Clover-Edition\"]\n",
        "from google.colab import drive\n",
        "drive.mount('/content/gdrive', force_remount=True)\n",
        "root_dir = \"/content/gdrive/My Drive/\"\n",
        "%cd \"/content/gdrive/My Drive/\"$repo\n",
        "!git pull"
      ],
      "execution_count": 0,
      "outputs": []
    },
    {
      "cell_type": "markdown",
      "metadata": {
        "id": "nJMePPmJvBp7",
        "colab_type": "text"
      },
      "source": [
        "---\n",
        "---\n",
        "### CELL 3 : Liberate GDrive Storage"
      ]
    },
    {
      "cell_type": "code",
      "metadata": {
        "id": "Gc8GGT99sIHn",
        "colab_type": "code",
        "colab": {}
      },
      "source": [
        "#@title <- **BEWARE**, run this cell **ONLY if you want to delete EVERYTHING** inside your Google Drive account. **NEVER run this while playing the game**, you will have to do it before doing so. It's suggested to move outside anything of importance or just use this for a throw away account. { form-width: \"10%\", display-mode: \"form\" }\n",
        "#@markdown *Once runned, wait for it to finish (it shouldn't take long) but Google Drive will only display that is empty after around 30-60 minutes.*\n",
        "#@markdown\n",
        "#@markdown  *It's not necessary to wait the 30-60 minutes.\n",
        "#@markdown\n",
        "#@markdown  *Now you will just have to do a fresh install again but your GDrive will be completly empty!*.\n",
        "\n",
        "# This will mount GDrive into the VM at /content/gdrive/My Drive\n",
        "# and place us in it\n",
        "print('----------------------------------------------------')\n",
        "print(\"Hello there Anon! Let us begin with the Google login\")\n",
        "print('It will authorize Colab to access your GDrive')\n",
        "print('----------------------------------------------------\\n\\n')\n",
        "from google.colab import drive\n",
        "drive.mount('/content/gdrive')\n",
        "root_dir = \"/content/gdrive/My Drive/\"\n",
        "\n",
        "# This is the code that will delete everything in your Drive\n",
        "print('\\n\\n----------------------------------------------------')\n",
        "print(\"Deleting everything in Drive\")\n",
        "print('----------------------------------------------------\\n\\n')\n",
        "%cd $root_dir\n",
        "!rm -rfv *\n",
        "print(\"Deletion Completed!\")"
      ],
      "execution_count": 0,
      "outputs": []
    },
    {
      "cell_type": "markdown",
      "metadata": {
        "id": "ooL1ozRUgO5r",
        "colab_type": "text"
      },
      "source": [
        "---\n",
        "---\n",
        "### CELL 4 : Drawfag OC"
      ]
    },
    {
      "cell_type": "markdown",
      "metadata": {
        "id": "nQN338QjYrqO",
        "colab_type": "text"
      },
      "source": [
        "Run this cell and get a random image from a Git repo with some drawfag stuff. The pic is even clickable so you can go straight to its Github page."
      ]
    },
    {
      "cell_type": "markdown",
      "metadata": {
        "id": "U7FT4lAWZILx",
        "colab_type": "text"
      },
      "source": [
        "*The cell is currently in development. It works perfectly in its current state, but have some flaws explained under the cell for curiousfags.*"
      ]
    },
    {
      "cell_type": "code",
      "metadata": {
        "id": "g9BG1IB6gl5L",
        "colab_type": "code",
        "colab": {}
      },
      "source": [
        "from IPython.display import HTML, Image\n",
        "from random import choice\n",
        "# listing of pictures made from github filenames (currently 1 to 15 and all .png)\n",
        "sequence = [i for i in range(1, 16)]\n",
        "# select a random pic\n",
        "for _ in range(1):\n",
        "\tpic = choice(sequence)\n",
        "# because fucktards\n",
        "print (\"<- Click this icon to close the pic. Big pictures take longer to load.\")\n",
        "# draw the pic and make it clickable to check it on github\n",
        "HTML(\"<center><a href=https://github.com/AIDungeonpastes/AID2-Art/tree/master/art/\" + str(pic) + \".png target=_blank><img src=https://raw.githubusercontent.com/AIDungeonpastes/AID2-Art/master/art/\" + str(pic) + \".png></a></center>\")"
      ],
      "execution_count": 0,
      "outputs": []
    },
    {
      "cell_type": "markdown",
      "metadata": {
        "id": "1dwuWFcBZ_Eu",
        "colab_type": "text"
      },
      "source": [
        "*   The pictures listing is not dynamic and if any picture name change, the script will broke on it.\n",
        "*   Any new picture in the repo needs the (1, 15) to be implemented manually accordingly (basically +1 for each new pic)\n",
        "*   By default, Colab cells output scrolls down to the last line, meaning you have to scroll up to the beginning of the story\n",
        "\n"
      ]
    }
  ]
}
