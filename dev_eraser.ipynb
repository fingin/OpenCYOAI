{
  "nbformat": 4,
  "nbformat_minor": 0,
  "metadata": {
    "colab": {
      "name": "dev-eraser.ipynb",
      "provenance": [],
      "collapsed_sections": [
        "9OyOAgpo0XfU",
        "xn0bEX3R8IMC",
        "gmioGz252Ghx",
        "88pDH9FP0TCz",
        "nqgPglYzMeek",
        "9mO5XY3HOBKN",
        "zITeSYmJvBp4",
        "nJMePPmJvBp7",
        "ooL1ozRUgO5r"
      ],
      "machine_shape": "hm",
      "include_colab_link": true
    },
    "kernelspec": {
      "name": "python3",
      "display_name": "Python 3"
    },
    "accelerator": "GPU"
  },
  "cells": [
    {
      "cell_type": "markdown",
      "metadata": {
        "id": "view-in-github",
        "colab_type": "text"
      },
      "source": [
        "<a href=\"https://colab.research.google.com/github/Kornilov1/AI-Dungeon-2-Anons-modded-Versions-Colab/blob/beta/dev_eraser.ipynb\" target=\"_parent\"><img src=\"https://colab.research.google.com/assets/colab-badge.svg\" alt=\"Open In Colab\"/></a>"
      ]
    },
    {
      "cell_type": "code",
      "metadata": {
        "id": "Gc8GGT99sIHn",
        "colab_type": "code",
        "colab": {}
      },
      "source": [
        "#@title ← **BEWARE**, run this cell **ONLY if you want to delete EVERYTHING** inside your Google Drive account. **NEVER run this while playing the game**, you will have to do it before doing so. It's suggested to move outside anything of importance or just use this for a throw away account. { form-width: \"10%\", display-mode: \"form\" }\n",
        "#@markdown *Once runned, wait for it to finish (it shouldn't take long) but Google Drive will only display that is empty after around 30-60 minutes.*\n",
        "#@markdown\n",
        "#@markdown  *It's not necessary to wait the 30-60 minutes.*\n",
        "#@markdown\n",
        "#@markdown  *Now you will just have to do a fresh install again but your GDrive will be completely empty!*\n",
        "from google.colab import drive\n",
        "\n",
        "print('\\n\\n----------------------------------------------------')\n",
        "print(\"WARNING: You are about to completely erase your Google Drive.\\nPlease confirm this by typing 'Erase everything' in the field below.\\nIf you DO NOT want to erase the content of your Google Drive,\\nenter 'ABORT' in the field below.\")\n",
        "print('----------------------------------------------------\\n\\n')\n",
        "field = None\n",
        "while field not in (\"Erase everything\",\"ABORT\"):\n",
        "    try:\n",
        "        field = input()\n",
        "        if field in (\"Erase everything\"):\n",
        "            # This is the code that will delete everything in your Drive\n",
        "            print('----------------------------------------------------')\n",
        "            print('Colab needs your authorization to access your GDrive')\n",
        "            print('----------------------------------------------------\\n\\n')\n",
        "            drive.mount('/content/gdrive')\n",
        "            root_dir = \"/content/gdrive/My Drive/\"            \n",
        "            print('\\n\\n----------------------------------------------------')\n",
        "            print(\"Drive mounted. Starting deletion.\")\n",
        "            print('----------------------------------------------------\\n\\n')\n",
        "            %cd -q $root_dir\n",
        "            !rm -rfv *\n",
        "            print('\\n\\n----------------------------------------------------')\n",
        "            print(\"Deletion Completed!\")\n",
        "            print('----------------------------------------------------\\n\\n')\n",
        "        elif field in (\"ABORT\"):\n",
        "            print(\"Aborted. Nothing was deleted.\")\n",
        "        else:\n",
        "            print(\"Confirm with 'Erase everything'\\nDeny with 'ABORT'\\n\")\n",
        "    except KeyboardInterrupt:\n",
        "        print(\"Confirm with 'Erase everything'\\nDeny with 'ABORT'\\n\")"
      ],
      "execution_count": 0,
      "outputs": []
    }
  ]
}