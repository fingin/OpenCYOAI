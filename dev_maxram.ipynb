{
  "nbformat": 4,
  "nbformat_minor": 0,
  "metadata": {
    "colab": {
      "name": "dev-maxram.ipynb",
      "provenance": [],
      "collapsed_sections": [
        "9OyOAgpo0XfU",
        "xn0bEX3R8IMC",
        "gmioGz252Ghx",
        "88pDH9FP0TCz",
        "nqgPglYzMeek",
        "9mO5XY3HOBKN",
        "zITeSYmJvBp4",
        "nJMePPmJvBp7",
        "ooL1ozRUgO5r"
      ],
      "machine_shape": "hm",
      "include_colab_link": true
    },
    "kernelspec": {
      "name": "python3",
      "display_name": "Python 3"
    },
    "accelerator": "GPU"
  },
  "cells": [
    {
      "cell_type": "markdown",
      "metadata": {
        "id": "view-in-github",
        "colab_type": "text"
      },
      "source": [
        "<a href=\"https://colab.research.google.com/github/Kornilov1/AI-Dungeon-2-Anons-modded-Versions-Colab/blob/beta/dev_maxram.ipynb\" target=\"_parent\"><img src=\"https://colab.research.google.com/assets/colab-badge.svg\" alt=\"Open In Colab\"/></a>"
      ]
    },
    {
      "cell_type": "code",
      "metadata": {
        "id": "Zb8MBT52sIHn",
        "colab_type": "code",
        "colab": {}
      },
      "source": [
        "#@title <- Run this cell if you suffer an out of memory (OOM) error. { form-width: \"10%\", display-mode: \"form\" }\n",
        "#@markdown *Wait until it crashes and a little message pops up (takes about 10 seconds) asking if you'd like to increase the available memory.*\n",
        "#@markdown\n",
        "#@markdown  *Say yes and run the game in [SECTION 1 : PLAY THE GAME](#scrollTo=nqgPglYzMeek).*\n",
        "thislist = [\"1\"]\n",
        "while 1:\n",
        "    thislist *= 10"
      ],
      "execution_count": 0,
      "outputs": []
    }
  ]
}